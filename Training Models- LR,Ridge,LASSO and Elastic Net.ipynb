{
 "cells": [
  {
   "cell_type": "markdown",
   "metadata": {},
   "source": [
    "Training Models"
   ]
  },
  {
   "cell_type": "code",
   "execution_count": 24,
   "metadata": {
    "collapsed": true
   },
   "outputs": [],
   "source": [
    "\n",
    "\n",
    "# The dataset elements\n",
    "CEMENT = 'Cement (component 1)(kg in a m^3 mixture)'; cement='cement'\n",
    "SLAG ='Blast Furnace Slag (component 2)(kg in a m^3 mixture)'; slag = 'slag'\n",
    "ASH = 'Fly Ash (component 3)(kg in a m^3 mixture)'; ash='ash'\n",
    "WATER = 'Water  (component 4)(kg in a m^3 mixture)'; water = 'water'\n",
    "SP = 'Superplasticizer (component 5)(kg in a m^3 mixture)'; sp = 'sp'\n",
    "COARSE_AGG = 'Coarse Aggregate  (component 6)(kg in a m^3 mixture)'; coarse_agg = 'coarse_agg'\n",
    "FINE_AGG = 'Fine Aggregate (component 7)(kg in a m^3 mixture)'; fine_agg = 'fine_agg'\n",
    "AGE = 'Age (day)'; age= 'age'\n",
    "STRENGTH = 'Concrete compressive strength(MPa, megapascals) '; strength='strength'\n",
    "\n",
    "FILE_NAME = 'processed_data.pickle'"
   ]
  },
  {
   "cell_type": "code",
   "execution_count": 25,
   "metadata": {
    "collapsed": true
   },
   "outputs": [],
   "source": [
    "def get_column_names(target_col_name = strength):\n",
    "    x_cols = list(df.columns.values)\n",
    "    x_cols.remove(target_col_name) \n",
    "    return x_cols, [target_col_name]"
   ]
  },
  {
   "cell_type": "code",
   "execution_count": 26,
   "metadata": {},
   "outputs": [],
   "source": [
    "import pandas as pd\n",
    "df = pd.read_excel('Concrete_Data.xls')\n",
    "\n",
    "# rename the column names\n",
    "df.rename(columns={CEMENT: cement, \n",
    "                   SLAG: slag,\n",
    "                   ASH: ash,\n",
    "                   WATER: water,\n",
    "                   SP: sp,\n",
    "                   COARSE_AGG: coarse_agg,\n",
    "                   FINE_AGG: fine_agg,\n",
    "                   AGE: age,\n",
    "                   STRENGTH: strength\n",
    "                  }, inplace = True)\n",
    "\n",
    "# get features and target column names\n",
    "x_col_names, y_col_name = get_column_names()"
   ]
  },
  {
   "cell_type": "code",
   "execution_count": 27,
   "metadata": {},
   "outputs": [
    {
     "data": {
      "text/html": [
       "<div>\n",
       "<style>\n",
       "    .dataframe thead tr:only-child th {\n",
       "        text-align: right;\n",
       "    }\n",
       "\n",
       "    .dataframe thead th {\n",
       "        text-align: left;\n",
       "    }\n",
       "\n",
       "    .dataframe tbody tr th {\n",
       "        vertical-align: top;\n",
       "    }\n",
       "</style>\n",
       "<table border=\"1\" class=\"dataframe\">\n",
       "  <thead>\n",
       "    <tr style=\"text-align: right;\">\n",
       "      <th></th>\n",
       "      <th>cement</th>\n",
       "      <th>slag</th>\n",
       "      <th>ash</th>\n",
       "      <th>water</th>\n",
       "      <th>sp</th>\n",
       "      <th>coarse_agg</th>\n",
       "      <th>fine_agg</th>\n",
       "      <th>age</th>\n",
       "      <th>strength</th>\n",
       "    </tr>\n",
       "  </thead>\n",
       "  <tbody>\n",
       "    <tr>\n",
       "      <th>0</th>\n",
       "      <td>540.0</td>\n",
       "      <td>0.0</td>\n",
       "      <td>0.0</td>\n",
       "      <td>162.0</td>\n",
       "      <td>2.5</td>\n",
       "      <td>1040.0</td>\n",
       "      <td>676.0</td>\n",
       "      <td>28</td>\n",
       "      <td>79.986111</td>\n",
       "    </tr>\n",
       "    <tr>\n",
       "      <th>1</th>\n",
       "      <td>540.0</td>\n",
       "      <td>0.0</td>\n",
       "      <td>0.0</td>\n",
       "      <td>162.0</td>\n",
       "      <td>2.5</td>\n",
       "      <td>1055.0</td>\n",
       "      <td>676.0</td>\n",
       "      <td>28</td>\n",
       "      <td>61.887366</td>\n",
       "    </tr>\n",
       "    <tr>\n",
       "      <th>2</th>\n",
       "      <td>332.5</td>\n",
       "      <td>142.5</td>\n",
       "      <td>0.0</td>\n",
       "      <td>228.0</td>\n",
       "      <td>0.0</td>\n",
       "      <td>932.0</td>\n",
       "      <td>594.0</td>\n",
       "      <td>270</td>\n",
       "      <td>40.269535</td>\n",
       "    </tr>\n",
       "    <tr>\n",
       "      <th>3</th>\n",
       "      <td>332.5</td>\n",
       "      <td>142.5</td>\n",
       "      <td>0.0</td>\n",
       "      <td>228.0</td>\n",
       "      <td>0.0</td>\n",
       "      <td>932.0</td>\n",
       "      <td>594.0</td>\n",
       "      <td>365</td>\n",
       "      <td>41.052780</td>\n",
       "    </tr>\n",
       "    <tr>\n",
       "      <th>4</th>\n",
       "      <td>198.6</td>\n",
       "      <td>132.4</td>\n",
       "      <td>0.0</td>\n",
       "      <td>192.0</td>\n",
       "      <td>0.0</td>\n",
       "      <td>978.4</td>\n",
       "      <td>825.5</td>\n",
       "      <td>360</td>\n",
       "      <td>44.296075</td>\n",
       "    </tr>\n",
       "  </tbody>\n",
       "</table>\n",
       "</div>"
      ],
      "text/plain": [
       "   cement   slag  ash  water   sp  coarse_agg  fine_agg  age   strength\n",
       "0   540.0    0.0  0.0  162.0  2.5      1040.0     676.0   28  79.986111\n",
       "1   540.0    0.0  0.0  162.0  2.5      1055.0     676.0   28  61.887366\n",
       "2   332.5  142.5  0.0  228.0  0.0       932.0     594.0  270  40.269535\n",
       "3   332.5  142.5  0.0  228.0  0.0       932.0     594.0  365  41.052780\n",
       "4   198.6  132.4  0.0  192.0  0.0       978.4     825.5  360  44.296075"
      ]
     },
     "execution_count": 27,
     "metadata": {},
     "output_type": "execute_result"
    }
   ],
   "source": [
    "df.head()"
   ]
  },
  {
   "cell_type": "code",
   "execution_count": 28,
   "metadata": {
    "collapsed": true
   },
   "outputs": [],
   "source": [
    "X = df[x_col_names]\n",
    "y = df[y_col_name]"
   ]
  },
  {
   "cell_type": "code",
   "execution_count": 29,
   "metadata": {},
   "outputs": [],
   "source": [
    "from sklearn.model_selection import train_test_split\n",
    "X_tr, X_te, y_tr, y_te = train_test_split(X, y, test_size = 0.2, random_state = 43)"
   ]
  },
  {
   "cell_type": "code",
   "execution_count": 30,
   "metadata": {},
   "outputs": [
    {
     "name": "stdout",
     "output_type": "stream",
     "text": [
      "(824, 8) (824, 1) (206, 8) (206, 1)\n"
     ]
    }
   ],
   "source": [
    "print(X_tr.shape, y_tr.shape, X_te.shape, y_te.shape)"
   ]
  },
  {
   "cell_type": "markdown",
   "metadata": {},
   "source": [
    "Polynomial transformations\n",
    "Use PolynomialFeatures from sklearn.preprocessing to add higher degree features (degree=2)."
   ]
  },
  {
   "cell_type": "code",
   "execution_count": 31,
   "metadata": {
    "collapsed": true
   },
   "outputs": [],
   "source": [
    "from sklearn.preprocessing import PolynomialFeatures\n",
    "poly = PolynomialFeatures(degree=2,include_bias=False)\n",
    "poly.fit(X_tr)\n",
    "X_tr = poly.transform(X_tr)## YOUR CODE HERE ##\n",
    "X_te = poly.fit_transform(X_te)## YOUR CODE HERE ##"
   ]
  },
  {
   "cell_type": "code",
   "execution_count": 32,
   "metadata": {},
   "outputs": [
    {
     "name": "stdout",
     "output_type": "stream",
     "text": [
      "(824, 44) (206, 44)\n"
     ]
    }
   ],
   "source": [
    "print(X_tr.shape, X_te.shape)"
   ]
  },
  {
   "cell_type": "markdown",
   "metadata": {},
   "source": [
    "Scaling features- Use StandardScaler from sklearn.preprocessing to normalize the training and testing data"
   ]
  },
  {
   "cell_type": "code",
   "execution_count": 33,
   "metadata": {
    "collapsed": true
   },
   "outputs": [],
   "source": [
    "from sklearn.preprocessing import StandardScaler\n",
    "\n",
    "# Train set\n",
    "X_tr = StandardScaler().fit_transform(X_tr)\n",
    "y_tr = StandardScaler().fit_transform(y_tr)\n",
    "\n",
    "# Test set\n",
    "X_te = StandardScaler().fit_transform(X_tr)\n",
    "y_te = StandardScaler().fit_transform(y_tr)"
   ]
  },
  {
   "cell_type": "code",
   "execution_count": 34,
   "metadata": {
    "collapsed": true
   },
   "outputs": [],
   "source": [
    "# For comparing models\n",
    "from sklearn.model_selection import cross_val_score\n",
    "from sklearn.model_selection import GridSearchCV\n",
    "import numpy as np\n",
    "\n",
    "def display_scores(scores):\n",
    "    print(\"Scores:\", scores)\n",
    "    print(\"Mean:\", scores.mean())"
   ]
  },
  {
   "cell_type": "code",
   "execution_count": 35,
   "metadata": {},
   "outputs": [
    {
     "name": "stdout",
     "output_type": "stream",
     "text": [
      "Scores: [0.45886845 0.45112998 0.48153951 0.46719049]\n",
      "Mean: 0.4646821088514097\n"
     ]
    }
   ],
   "source": [
    "# Linear regression on transformed features -- polynomial transformation + scaling\n",
    "from sklearn.linear_model import LinearRegression\n",
    "lin_scores = cross_val_score(LinearRegression(),\n",
    "                             X_tr,\n",
    "                             y_tr,\n",
    "                             scoring=\"neg_mean_squared_error\",\n",
    "                             cv=4)\n",
    "lin_rmse_scores = np.sqrt(-lin_scores)\n",
    "display_scores(lin_rmse_scores)"
   ]
  },
  {
   "cell_type": "code",
   "execution_count": 36,
   "metadata": {},
   "outputs": [
    {
     "data": {
      "text/plain": [
       "GridSearchCV(cv=3, error_score='raise-deprecating',\n",
       "             estimator=Ridge(alpha=1.0, copy_X=True, fit_intercept=True,\n",
       "                             max_iter=None, normalize=False, random_state=None,\n",
       "                             solver='auto', tol=0.001),\n",
       "             iid='warn', n_jobs=None,\n",
       "             param_grid=[{'alpha': [0.001, 0.01, 0.1, 1, 10, 100, 1000, 1000]}],\n",
       "             pre_dispatch='2*n_jobs', refit=True, return_train_score=False,\n",
       "             scoring='neg_mean_squared_error', verbose=0)"
      ]
     },
     "execution_count": 36,
     "metadata": {},
     "output_type": "execute_result"
    }
   ],
   "source": [
    "# Ridge regression\n",
    "from sklearn.linear_model import Ridge\n",
    "\n",
    "param_grid = [{'alpha': [0.001,0.01,0.1,1,10,100,1000,1000]}]\n",
    "grid_search_rr = GridSearchCV(Ridge(), param_grid, cv=3, scoring='neg_mean_squared_error')\n",
    "grid_search_rr.fit(X_tr, y_tr)"
   ]
  },
  {
   "cell_type": "code",
   "execution_count": 37,
   "metadata": {},
   "outputs": [
    {
     "name": "stdout",
     "output_type": "stream",
     "text": [
      "{'alpha': 10}\n",
      "0.4729131440307423\n"
     ]
    }
   ],
   "source": [
    "print(grid_search_rr.best_params_)\n",
    "print(np.sqrt(-grid_search_rr.best_score_))"
   ]
  },
  {
   "cell_type": "code",
   "execution_count": 38,
   "metadata": {},
   "outputs": [
    {
     "name": "stderr",
     "output_type": "stream",
     "text": [
      "C:\\Users\\Mominur\\Anaconda3\\lib\\site-packages\\sklearn\\linear_model\\coordinate_descent.py:475: ConvergenceWarning: Objective did not converge. You might want to increase the number of iterations. Duality gap: 1.1439161680074363, tolerance: 0.05446780882136775\n",
      "  positive)\n",
      "C:\\Users\\Mominur\\Anaconda3\\lib\\site-packages\\sklearn\\linear_model\\coordinate_descent.py:475: ConvergenceWarning: Objective did not converge. You might want to increase the number of iterations. Duality gap: 4.779868543926511, tolerance: 0.055784750607515574\n",
      "  positive)\n",
      "C:\\Users\\Mominur\\Anaconda3\\lib\\site-packages\\sklearn\\linear_model\\coordinate_descent.py:475: ConvergenceWarning: Objective did not converge. You might want to increase the number of iterations. Duality gap: 1.544732374803928, tolerance: 0.05451739607211356\n",
      "  positive)\n",
      "C:\\Users\\Mominur\\Anaconda3\\lib\\site-packages\\sklearn\\linear_model\\coordinate_descent.py:475: ConvergenceWarning: Objective did not converge. You might want to increase the number of iterations. Duality gap: 0.07070707255931552, tolerance: 0.05451739607211356\n",
      "  positive)\n"
     ]
    },
    {
     "name": "stdout",
     "output_type": "stream",
     "text": [
      "{'alpha': 0.001}\n",
      "0.6034455137633751\n"
     ]
    },
    {
     "name": "stderr",
     "output_type": "stream",
     "text": [
      "C:\\Users\\Mominur\\Anaconda3\\lib\\site-packages\\sklearn\\linear_model\\coordinate_descent.py:475: ConvergenceWarning: Objective did not converge. You might want to increase the number of iterations. Duality gap: 1.896988330951359, tolerance: 0.08239999999999999\n",
      "  positive)\n"
     ]
    }
   ],
   "source": [
    "# Lasso regression \n",
    "\n",
    "from sklearn.linear_model import Lasso\n",
    "param_grid = [{'alpha': [0.001,0.01,0.1,1,10,100,1000,1000]}]\n",
    "grid_search_lr = GridSearchCV(Lasso(), param_grid, cv=3, scoring='neg_mean_absolute_error')\n",
    "grid_search_lr.fit(X_tr, y_tr)\n",
    "\n",
    "print(grid_search_lr.best_params_)\n",
    "print(np.sqrt(-grid_search_lr.best_score_))   \n",
    "    "
   ]
  },
  {
   "cell_type": "code",
   "execution_count": 39,
   "metadata": {},
   "outputs": [
    {
     "name": "stdout",
     "output_type": "stream",
     "text": [
      "{'l1_ratio': 0}\n",
      "0.4993522133372714\n"
     ]
    },
    {
     "name": "stderr",
     "output_type": "stream",
     "text": [
      "C:\\Users\\Mominur\\Anaconda3\\lib\\site-packages\\sklearn\\linear_model\\coordinate_descent.py:475: ConvergenceWarning: Objective did not converge. You might want to increase the number of iterations. Duality gap: 77.52792148136545, tolerance: 0.05446780882136775\n",
      "  positive)\n",
      "C:\\Users\\Mominur\\Anaconda3\\lib\\site-packages\\sklearn\\linear_model\\coordinate_descent.py:475: ConvergenceWarning: Objective did not converge. You might want to increase the number of iterations. Duality gap: 75.85712211072817, tolerance: 0.055784750607515574\n",
      "  positive)\n",
      "C:\\Users\\Mominur\\Anaconda3\\lib\\site-packages\\sklearn\\linear_model\\coordinate_descent.py:475: ConvergenceWarning: Objective did not converge. You might want to increase the number of iterations. Duality gap: 72.1989106790077, tolerance: 0.05451739607211356\n",
      "  positive)\n",
      "C:\\Users\\Mominur\\Anaconda3\\lib\\site-packages\\sklearn\\linear_model\\coordinate_descent.py:475: ConvergenceWarning: Objective did not converge. You might want to increase the number of iterations. Duality gap: 113.98475668111783, tolerance: 0.08239999999999999\n",
      "  positive)\n"
     ]
    }
   ],
   "source": [
    "# Elastic Net regression\n",
    "\n",
    "from sklearn.linear_model import ElasticNet\n",
    "\n",
    "#elastic_net = ElasticNet(alpha=0.1, l1_ratio=0.5, random_state=42)\n",
    "#elastic_net.fit(X, y)\n",
    "#elastic_net.predict([[1.5]])\n",
    "\n",
    "\n",
    "param_grid = [{'l1_ratio': [0,0.5,1]}]\n",
    "grid_search_Enr = GridSearchCV(ElasticNet(alpha=0.1, random_state=42), param_grid, cv=3, scoring='neg_mean_squared_error')\n",
    "#grid_search_Enr = GridSearchCV(ElasticNet(alpha=0.1, l1_ratio=0.5, random_state=42), cv=3, scoring='neg_mean_squared_error')\n",
    "\n",
    "grid_search_Enr.fit(X_tr, y_tr)\n",
    "\n",
    "print(grid_search_Enr.best_params_)\n",
    "print(np.sqrt(-grid_search_Enr.best_score_))\n"
   ]
  },
  {
   "cell_type": "code",
   "execution_count": 40,
   "metadata": {},
   "outputs": [
    {
     "name": "stdout",
     "output_type": "stream",
     "text": [
      "0.44657795602626055\n"
     ]
    }
   ],
   "source": [
    "# Evaluating your best model on TESTING data\n",
    "from sklearn.metrics import mean_squared_error\n",
    "\n",
    "final_model = grid_search_lr.best_estimator_\n",
    "\n",
    "y_te_estimation = final_model.predict(X_te)\n",
    "\n",
    "final_mse = mean_squared_error(y_te, y_te_estimation)\n",
    "final_rmse = np.sqrt(final_mse)\n",
    "print(final_rmse)"
   ]
  },
  {
   "cell_type": "code",
   "execution_count": null,
   "metadata": {
    "collapsed": true
   },
   "outputs": [],
   "source": []
  }
 ],
 "metadata": {
  "kernelspec": {
   "display_name": "Python 3",
   "language": "python",
   "name": "python3"
  },
  "language_info": {
   "codemirror_mode": {
    "name": "ipython",
    "version": 3
   },
   "file_extension": ".py",
   "mimetype": "text/x-python",
   "name": "python",
   "nbconvert_exporter": "python",
   "pygments_lexer": "ipython3",
   "version": "3.6.2"
  }
 },
 "nbformat": 4,
 "nbformat_minor": 2
}
